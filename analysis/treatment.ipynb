{
 "cells": [
  {
   "cell_type": "code",
   "execution_count": null,
   "metadata": {
    "collapsed": true
   },
   "outputs": [],
   "source": []
  },
  {
   "cell_type": "markdown",
   "metadata": {},
   "source": [
    "### Carregando as bibliotecas"
   ]
  },
  {
   "cell_type": "code",
   "execution_count": 2,
   "metadata": {},
   "outputs": [],
   "source": [
    "import re\n",
    "import time\n",
    "import nltk\n",
    "import math\n",
    "import spacy\n",
    "import pickle\n",
    "import random\n",
    "import pandas as pd\n",
    "import statistics as st\n",
    "import unidecode\n",
    "import numpy as np\n",
    "import seaborn as sns\n",
    "import matplotlib.pyplot as plt\n",
    "\n",
    "from tqdm import tqdm\n",
    "from datetime import datetime\n",
    "from langdetect import detect\n",
    "from pymongo import MongoClient\n",
    "from textblob import TextBlob\n",
    "from nltk.tag import pos_tag\n",
    "from spellchecker import SpellChecker\n",
    "from nltk.tokenize import word_tokenize\n",
    "from nltk.corpus import wordnet\n",
    "from wordcloud import WordCloud\n",
    "from sklearn.feature_extraction.text import TfidfVectorizer\n",
    "from sklearn.decomposition import TruncatedSVD\n",
    "from sklearn.model_selection import train_test_split\n",
    "from sklearn.naive_bayes import GaussianNB\n",
    "from sklearn.linear_model import LogisticRegression\n",
    "from sklearn.svm import SVC\n",
    "from sklearn.neural_network import MLPClassifier\n",
    "from sklearn.metrics import classification_report"
   ]
  },
  {
   "cell_type": "code",
   "execution_count": 2,
   "metadata": {},
   "outputs": [
    {
     "name": "stderr",
     "output_type": "stream",
     "text": [
      "[nltk_data] Downloading package stopwords to\n",
      "[nltk_data]     C:\\Users\\tatsuya\\AppData\\Roaming\\nltk_data...\n",
      "[nltk_data]   Package stopwords is already up-to-date!\n",
      "[nltk_data] Downloading package punkt to\n",
      "[nltk_data]     C:\\Users\\tatsuya\\AppData\\Roaming\\nltk_data...\n",
      "[nltk_data]   Package punkt is already up-to-date!\n",
      "C:\\Users\\tatsuya\\AppData\\Local\\Programs\\Python\\Python38\\lib\\site-packages\\tqdm\\std.py:699: FutureWarning: The Panel class is removed from pandas. Accessing it from the top-level namespace will also be removed in the next version\n",
      "  from pandas import Panel\n"
     ]
    }
   ],
   "source": [
    "# Download nltk packages\n",
    "nltk.download('stopwords')\n",
    "nltk.download('punkt')\n",
    "tqdm.pandas()"
   ]
  },
  {
   "cell_type": "markdown",
   "metadata": {},
   "source": [
    "### Carregando os dados"
   ]
  },
  {
   "cell_type": "code",
   "execution_count": 12,
   "metadata": {},
   "outputs": [],
   "source": [
    "collections = [('raw_CNN', 'portuguese', 0), ('raw_Estadao', 'portuguese', 0), ('raw_FatoFake', 'portuguese', 1), \n",
    "               ('raw_G1', 'portuguese', 0), ('raw_MinisterioFake', 'portuguese', 1),\n",
    "               ('raw_SanarmedFake', 'portuguese', 1), ('raw_UOL', 'portuguese', 0), ('raw_Kaggle', 'english', None)]\n",
    "\n",
    "# Load all collections data from MongoDB\n",
    "db = MongoClient()\n",
    "raw_data = pd.DataFrame()\n",
    "for c in collections:\n",
    "    collection = db['covid-fake-news-detection'][c[0]]\n",
    "    data_collection = pd.DataFrame(list(collection.find()))\n",
    "    data_collection['language'] = c[1]\n",
    "    if c[2] is not None:\n",
    "        data_collection['label'] = c[2]\n",
    "    else:\n",
    "        data_collection['label'] = data_collection['label'].apply(lambda x: 1 if x == 'fake' else 0)\n",
    "    data_collection['origin'] = c[0].replace('raw_','')\n",
    "    raw_data = pd.concat([raw_data, data_collection]).reset_index(drop=True)\n",
    "    \n",
    "raw_data['title'] = raw_data['title'].apply(lambda f: f.replace(\"'\", \"\").replace('\"', '').replace('\\n', ''))\n",
    "raw_data['datetime'] = pd.to_datetime(raw_data['datetime']).apply(lambda x: x.date())\n",
    "raw_data['datetime'] = raw_data['datetime'].apply(lambda d: d.strftime(\"%d/%m/%Y\") if d is not pd.NaT else d)\n",
    "\n",
    "del raw_data['link']"
   ]
  },
  {
   "cell_type": "code",
   "execution_count": 3,
   "metadata": {},
   "outputs": [
    {
     "data": {
      "image/png": "[encoded data removed]",
      "text/plain": [
       "<Figure size 1440x288 with 2 Axes>"
      ]
     },
     "metadata": {
      "needs_background": "light"
     },
     "output_type": "display_data"
    }
   ],
   "source": [
    "# Set grid of 2 columns\n",
    "fig, (a0, a1) = plt.subplots(ncols=2, gridspec_kw = {'width_ratios':[1, 3]})\n",
    "fig.set_figwidth(20)\n",
    "# Show count for positive for fake news (1) and negative for fake news (0)\n",
    "sns.countplot(x=\"label\", data=raw_data, ax=a0)\n",
    "# Show count for every origin\n",
    "sns.countplot(x=\"origin\", data=raw_data, ax=a1)\n",
    "plt.show()"
   ]
  },
  {
   "cell_type": "markdown",
   "metadata": {},
   "source": [
    "### Reamostragem: Undersampling induzido\n",
    "\n",
    "É verdade que temos muito mais amostras negativas para fake news (label = 0) e muito mais amostras provenientes da fonte G1. Nesta fase da reamostragem, será performado um undersampling induzido, com o objetivo de remover amostras negativas para fake news que provavelmente não ofereçam conteúdo relevante para a análise (de todas as fontes dinâmicas) e remover aleatoriamente amostras da fonte G1, para balancear também a proveniência dos dados."
   ]
  },
  {
   "cell_type": "code",
   "execution_count": 13,
   "metadata": {},
   "outputs": [],
   "source": [
    "# Locate and remove samples from all dynamic fonts which do not contain some particular substrings\n",
    "pattern = '(?i)covid|corona|vacina|mascara|máscara'\n",
    "out_of_context = raw_data[(raw_data['language'] == 'portuguese') & (raw_data['label'] == 0)]\n",
    "out_of_context = out_of_context[~out_of_context['title'].str.contains(pattern)]\n",
    "raw_data = raw_data.drop(list(out_of_context.index))"
   ]
  },
  {
   "cell_type": "code",
   "execution_count": 14,
   "metadata": {},
   "outputs": [],
   "source": [
    "# Locate and remove samples from all dynamic fonts with 2 or more numbers (high probably only reports number of cases/deaths)\n",
    "only_reports = raw_data[(raw_data['language'] == 'portuguese') & (raw_data['label'] == 0)]\n",
    "only_reports = only_reports[only_reports.apply(lambda x: len(re.findall(r'\\b\\d+\\b', x['title'])) >= 2, axis=1)]\n",
    "raw_data = raw_data.drop(list(only_reports.index))"
   ]
  },
  {
   "cell_type": "code",
   "execution_count": 15,
   "metadata": {},
   "outputs": [],
   "source": [
    "# Locate and remove samples from all dynamic fonts which contain custom substrings\n",
    "pattern = '(?i)veja lista com perfil|casos de coronavírus na|casos de coronavírus em'\n",
    "custom_substring = raw_data[(raw_data['language'] == 'portuguese') & (raw_data['label'] == 0)]\n",
    "custom_substring = custom_substring[custom_substring['title'].str.contains(pattern)]\n",
    "raw_data = raw_data.drop(list(custom_substring.index))"
   ]
  },
  {
   "cell_type": "code",
   "execution_count": 16,
   "metadata": {},
   "outputs": [],
   "source": [
    "# Remove duplicated samples from all fonts\n",
    "raw_data = raw_data.drop_duplicates(subset='title', keep=\"last\")"
   ]
  },
  {
   "cell_type": "code",
   "execution_count": 17,
   "metadata": {},
   "outputs": [],
   "source": [
    "# Remove random samples from G1, leaving n samples left, where n is the mean number of samples of other fonts\n",
    "n_med_cat = int(raw_data.groupby(['origin'])['_id'].count().drop('G1').mean())\n",
    "g1_raw_data = raw_data[raw_data['origin'] == 'G1']\n",
    "g1_raw_data = g1_raw_data.sample(n = g1_raw_data.shape[0] - n_med_cat, random_state=1)\n",
    "raw_data = raw_data.drop(list(g1_raw_data.index))"
   ]
  },
  {
   "cell_type": "code",
   "execution_count": 18,
   "metadata": {},
   "outputs": [
    {
     "data": {
      "image/png": "[encoded data removed]",
      "text/plain": [
       "<Figure size 1440x288 with 2 Axes>"
      ]
     },
     "metadata": {
      "needs_background": "light"
     },
     "output_type": "display_data"
    }
   ],
   "source": [
    "# Set grid of 2 columns\n",
    "fig, (a0, a1) = plt.subplots(ncols=2, gridspec_kw = {'width_ratios':[1, 3]})\n",
    "fig.set_figwidth(20)\n",
    "# Show count for positive for fake news (1) and negative for fake news (0)\n",
    "sns.countplot(x=\"label\", data=raw_data, ax=a0)\n",
    "# Show count for every origin\n",
    "sns.countplot(x=\"origin\", data=raw_data, ax=a1)\n",
    "plt.show()"
   ]
  },
  {
   "cell_type": "markdown",
   "metadata": {},
   "source": [
    "### Tradução das amostras em português para inglês"
   ]
  },
  {
   "cell_type": "code",
   "execution_count": 34,
   "metadata": {},
   "outputs": [],
   "source": [
    "# Batch export 3k of phrases to external translate\n",
    "pt_raw_data = raw_data[raw_data['language'] == 'portuguese']\n",
    "with open('your_file.txt', 'w', encoding=\"utf-8\") as f:\n",
    "    f.write('\\n'.join(list(pt_raw_data['title'])[:3000]))"
   ]
  },
  {
   "cell_type": "code",
   "execution_count": 35,
   "metadata": {},
   "outputs": [],
   "source": [
    "# Batch load 3k of phrases after exteral translate into dataframe object\n",
    "with open('your_file.txt', 'r', encoding=\"utf-8\") as f:\n",
    "    lines = f.readlines()\n",
    "lines = list(map(lambda x: x.replace('\\n','').replace('  ', ' '), lines))\n",
    "ids = list(pt_raw_data[:3000].index)\n",
    "for i in range(3000):\n",
    "    raw_data.at[ids[i], 'title'] = lines[i]\n",
    "    raw_data.at[ids[i], 'language'] = 'english'"
   ]
  },
  {
   "cell_type": "code",
   "execution_count": 36,
   "metadata": {},
   "outputs": [],
   "source": [
    "# Save pickle file with translated dataframe\n",
    "with open(r'pickles\\translated.pickle', 'wb') as f:\n",
    "    pickle.dump(raw_data, f)"
   ]
  },
  {
   "cell_type": "code",
   "execution_count": 13,
   "metadata": {},
   "outputs": [],
   "source": [
    "# Load pickle file with translated dataframe\n",
    "with open(r'pickles\\translated.pickle', 'rb') as f:\n",
    "    raw_data = pickle.load(f)"
   ]
  },
  {
   "cell_type": "code",
   "execution_count": 14,
   "metadata": {},
   "outputs": [],
   "source": [
    "t_data = raw_data.copy()"
   ]
  },
  {
   "cell_type": "markdown",
   "metadata": {},
   "source": [
    "### Remoção de ruído, correção de escrita e lowerização (caixa baixa)"
   ]
  },
  {
   "cell_type": "code",
   "execution_count": 15,
   "metadata": {},
   "outputs": [],
   "source": [
    "# Remove non-ASCII characters from Kaggle databases (for tweet cleaning)\n",
    "def remove_non_ASCII(title, origin):\n",
    "    if origin == 'Kaggle':\n",
    "        title = title.encode(\"ascii\", \"ignore\").decode()\n",
    "    return title\n",
    "t_data['title'] = t_data.apply(lambda x: remove_non_ASCII(x['title'], x['origin']), axis=1)"
   ]
  },
  {
   "cell_type": "code",
   "execution_count": 16,
   "metadata": {},
   "outputs": [],
   "source": [
    "# Remove Twitter hashtags and citations from Kaggle databases\n",
    "def remove_hashtags_citations(title, origin):\n",
    "    if origin == 'Kaggle':\n",
    "        title = ' '.join([t for t in title.split(' ') if not t.startswith('#') and not t.startswith('@') and not t.startswith('https:')])\n",
    "    return title\n",
    "t_data['title'] = t_data.apply(lambda x: remove_hashtags_citations(x['title'], x['origin']), axis=1)"
   ]
  },
  {
   "cell_type": "code",
   "execution_count": 17,
   "metadata": {},
   "outputs": [],
   "source": [
    "# Remove ponctuation from all samples\n",
    "def remove_ponct(title):\n",
    "    ponct = ['.', ',', ';', ':', '!', '?', \"\\\\\", \"/\", \"_\", \"-\", '~']\n",
    "    for p in ponct:\n",
    "        title = title.replace(p, '')\n",
    "    return title.strip()\n",
    "t_data['title'] = t_data['title'].apply(lambda x: remove_ponct(x))"
   ]
  },
  {
   "cell_type": "code",
   "execution_count": 18,
   "metadata": {},
   "outputs": [],
   "source": [
    "# Neutralize accents from all samples\n",
    "t_data['title'] = t_data['title'].apply(lambda x: unidecode.unidecode(x))"
   ]
  },
  {
   "cell_type": "code",
   "execution_count": 21,
   "metadata": {},
   "outputs": [
    {
     "name": "stderr",
     "output_type": "stream",
     "text": [
      "100%|██████████████████████████████████████████████████████████████████████████| 45746/45746 [4:12:08<00:00,  3.02it/s]\n"
     ]
    }
   ],
   "source": [
    "# Spelling correction for Kaggle databases (for tweet cleaning)\n",
    "def correct_spelling(title, origin):\n",
    "    if origin == 'Kaggle':\n",
    "        title = TextBlob(title)\n",
    "        title = str(title.correct())\n",
    "    return title\n",
    "t_data['title'] = t_data.progress_apply(lambda x: correct_spelling(x['title'], x['origin']), axis=1)"
   ]
  },
  {
   "cell_type": "code",
   "execution_count": 9,
   "metadata": {},
   "outputs": [
    {
     "name": "stderr",
     "output_type": "stream",
     "text": [
      "100%|███████████████████████████████████████████████████████████████████████████| 45746/45746 [00:50<00:00, 905.85it/s]\n"
     ]
    }
   ],
   "source": [
    "spell = SpellChecker()\n",
    "# Lowerize words which are not proper name\n",
    "def lowerize(title):\n",
    "    # Get words\n",
    "    words = [w for w in title.split(' ') if w]\n",
    "    # Get unknown words (possibly proper names, after correction)\n",
    "    unknown_words = spell.unknown(words)\n",
    "    # Get proper names \n",
    "    tagged_sent = pos_tag(words)\n",
    "    propernouns = [word for word,pos in tagged_sent if pos == 'NNP']\n",
    "    # Lowerize if not identified as proper name and not identified as unknown word\n",
    "    title = ' '.join([w.lower() if (w not in propernouns) and (w.lower() not in unknown_words) else w for w in words])\n",
    "    return title\n",
    "t_data['title'] = t_data['title'].progress_apply(lambda x: lowerize(x))"
   ]
  },
  {
   "cell_type": "code",
   "execution_count": 12,
   "metadata": {},
   "outputs": [],
   "source": [
    "# Save pickle file with corrected dataframe\n",
    "with open(r'pickles\\corrected.pickle', 'wb') as f:\n",
    "    pickle.dump(t_data, f)"
   ]
  },
  {
   "cell_type": "code",
   "execution_count": null,
   "metadata": {},
   "outputs": [],
   "source": [
    "# Load pickle file with corrected dataframe\n",
    "with open(r'pickles\\corrected.pickle', 'rb') as f:\n",
    "    t_data = pickle.load(f)"
   ]
  },
  {
   "cell_type": "markdown",
   "metadata": {},
   "source": [
    "### Tokenização, remoção de stop words e lematização"
   ]
  },
  {
   "cell_type": "code",
   "execution_count": 10,
   "metadata": {},
   "outputs": [],
   "source": [
    "data = t_data.copy()"
   ]
  },
  {
   "cell_type": "code",
   "execution_count": 76,
   "metadata": {},
   "outputs": [],
   "source": [
    "scy = spacy.load(\"en_core_web_sm\")\n",
    "nltk_sw = nltk.corpus.stopwords.words('english')\n",
    "def tokenize_pipeline(title):\n",
    "    title = scy(title)\n",
    "    # Tokenize\n",
    "    token_list = [token for token in title]\n",
    "    # Remove Stop Words\n",
    "    token_list = [t for t in token_list if str(t) not in nltk_sw]\n",
    "    # Lemmatize\n",
    "    lemma_list = [t.lemma_ for t in title]\n",
    "    # Remove Stop Words (reforce) + custom stop words (like keywords)\n",
    "    custom_sw = []\n",
    "    lemma_list = [l for l in lemma_list if l.lower() not in nltk_sw + custom_sw]\n",
    "    # Remove lemmas which are digits\n",
    "    lemma_list = [l for l in lemma_list if not l.isdigit()]\n",
    "    return ' '.join(lemma_list) # Returns joined text to fit TfIdf vectorizer corpus\n",
    "data['title'] = data['title'].progress_apply(lambda x: tokenize_pipeline(x))"
   ]
  },
  {
   "cell_type": "code",
   "execution_count": 14,
   "metadata": {},
   "outputs": [],
   "source": [
    "# Save pickle file with tokenized dataframe\n",
    "with open(r'pickles\\tokenized.pickle', 'wb') as f:\n",
    "    pickle.dump(data, f)"
   ]
  },
  {
   "cell_type": "code",
   "execution_count": 3,
   "metadata": {},
   "outputs": [],
   "source": [
    "# Load pickle file with tokenized dataframe\n",
    "with open(r'pickles\\tokenized.pickle', 'rb') as f:\n",
    "    data = pickle.load(f)"
   ]
  },
  {
   "cell_type": "markdown",
   "metadata": {},
   "source": [
    "### Reamostragem: Oversampling com Data Augmentation\n",
    "\n",
    "Como ainda existe considerável desbalanceamento das classes e das fontes, será performada uma reamostragem utilizando técnicas de Data Augmentation, com intuito de aumentar o número de amostras positivas para fake news."
   ]
  },
  {
   "cell_type": "code",
   "execution_count": 69,
   "metadata": {},
   "outputs": [],
   "source": [
    "# Determinate number of positive samples to sintetize\n",
    "def ov(N,n,t=0.05):\n",
    "    if abs(N - n)/(N + n) <= t:\n",
    "        return math.floor(n)\n",
    "    return ov(N, n*(1+2*t), t)\n",
    "\n",
    "n_pos = len(data[data['label'] == 1])\n",
    "n_neg = len(data[data['label'] == 0])\n",
    "balanced_pos = ov(n_neg, n_pos, 0.05) # Tolerance of 5%\n",
    "n_sint = balanced_pos - n_pos"
   ]
  },
  {
   "cell_type": "code",
   "execution_count": 70,
   "metadata": {},
   "outputs": [],
   "source": [
    "data_positive = data[data['label'] == 1]\n",
    "\n",
    "# Shuffle words (1/8 of data to sintetize) :: 1/8\n",
    "def shuffle_string(s):\n",
    "    s = s.split(' ')\n",
    "    s = [t for t in s if t]\n",
    "    return ' '.join(random.sample(s, len(s)))\n",
    "\n",
    "random_sample = data_positive.sample(n = int(n_sint/12), random_state=10)\n",
    "random_sample['title'] = random_sample['title'].apply(lambda x: shuffle_string(x))\n",
    "sintetized_data = random_sample.copy()"
   ]
  },
  {
   "cell_type": "code",
   "execution_count": 71,
   "metadata": {},
   "outputs": [
    {
     "name": "stderr",
     "output_type": "stream",
     "text": [
      "<ipython-input-71-292b23bf3a45>:13: SettingWithCopyWarning: \n",
      "A value is trying to be set on a copy of a slice from a DataFrame\n",
      "\n",
      "See the caveats in the documentation: https://pandas.pydata.org/pandas-docs/stable/user_guide/indexing.html#returning-a-view-versus-a-copy\n",
      "  generated_sample['title'] = generated_text\n"
     ]
    }
   ],
   "source": [
    "# Combine 2 samples (1/8 of data to sintetize) :: 2/8\n",
    "mean_combine = False # False -> combines all words, True -> get mean number of words\n",
    "for i in range(int(n_sint/8)):\n",
    "    random_sample = data_positive.sample(n = 2, random_state=i)\n",
    "    generated_text = list(random_sample['title'])\n",
    "    mean_length = int(st.mean([len(generated_text[0]), len(generated_text[1])]))\n",
    "    generated_text = list(set(generated_text[0].split(' ') + generated_text[1].split(' ')))\n",
    "    if mean_combine:\n",
    "        generated_text = random.sample(generated_text, mean_length)\n",
    "        mean_combine = !mean_combine\n",
    "    generated_text = ' '.join(generated_text)\n",
    "    generated_sample = random_sample.iloc[0]\n",
    "    generated_sample['title'] = generated_text\n",
    "    sintetized_data = sintetized_data.append(generated_sample, ignore_index=True)"
   ]
  },
  {
   "cell_type": "code",
   "execution_count": 72,
   "metadata": {},
   "outputs": [],
   "source": [
    "# Translate and retranslate (1/2 of data to sintetize) :: 6/8\n",
    "# Batch export to external translate\n",
    "random_samples = []\n",
    "for i in range(7):\n",
    "    rs = data_positive.sample(n = int(n_sint/14), random_state=20 + i*10).reset_index()\n",
    "    random_samples.append(rs)\n",
    "    #with open(f'to_translate_{i}.txt', 'w', encoding=\"utf-8\") as f:\n",
    "    #    f.write('\\n'.join(list(rs['title'])))"
   ]
  },
  {
   "cell_type": "code",
   "execution_count": 73,
   "metadata": {},
   "outputs": [],
   "source": [
    "# Batch load after external translate\n",
    "for i in range(7):\n",
    "    with open(f'to_translate_{i}.txt', 'r', encoding=\"utf-8\") as f:\n",
    "        lines = f.readlines()\n",
    "    lines = list(map(lambda x: x.replace('\\n','').replace('  ', ' '), lines))\n",
    "    for j in range(1246):\n",
    "        random_samples[i].at[j, 'title'] = lines[j]\n",
    "    sintetized_data = sintetized_data.append(random_samples[i], ignore_index=True)\n",
    "\n",
    "# english -> portuguese -> english\n",
    "# english -> spanish -> english\n",
    "# english -> french -> english\n",
    "# english -> korean -> english\n",
    "# english -> russian -> english\n",
    "# english -> deutsch -> english\n",
    "# english -> japanese -> english"
   ]
  },
  {
   "cell_type": "code",
   "execution_count": 74,
   "metadata": {},
   "outputs": [
    {
     "name": "stderr",
     "output_type": "stream",
     "text": [
      "<ipython-input-74-c1361451ac30>:22: SettingWithCopyWarning: \n",
      "A value is trying to be set on a copy of a slice from a DataFrame\n",
      "\n",
      "See the caveats in the documentation: https://pandas.pydata.org/pandas-docs/stable/user_guide/indexing.html#returning-a-view-versus-a-copy\n",
      "  generated_sample['title'] = generated_text\n"
     ]
    }
   ],
   "source": [
    "# Use of synonyms (1/4 of data to sintetize) :: 8/8\n",
    "def get_synonym(word):\n",
    "    synonym = word\n",
    "    for ss in wordnet.synsets(word):\n",
    "        for l in ss.lemma_names():\n",
    "            if l != word:\n",
    "                return synonym\n",
    "    return synonym\n",
    "\n",
    "for i in range(int(n_sint/4)):\n",
    "    random_sample = data_positive.sample(n = 1, random_state=10000+i)\n",
    "    text = list(random_sample['title'])[0].split(' ')\n",
    "    text = [w for w in text if w]\n",
    "    text = pos_tag(text)\n",
    "    generated_text = []\n",
    "    for word,pos in text:\n",
    "        if pos == 'JJ' or pos == 'NN':\n",
    "            word = get_synonym(word)\n",
    "        generated_text.append(word)\n",
    "    generated_text = ' '.join(generated_text)\n",
    "    generated_sample = random_sample.iloc[0]\n",
    "    generated_sample['title'] = generated_text\n",
    "    sintetized_data = sintetized_data.append(generated_sample, ignore_index=True)"
   ]
  },
  {
   "cell_type": "code",
   "execution_count": 77,
   "metadata": {},
   "outputs": [
    {
     "name": "stderr",
     "output_type": "stream",
     "text": [
      "100%|███████████████████████████████████████████████████████████████████████████| 63193/63193 [05:37<00:00, 187.40it/s]\n"
     ]
    }
   ],
   "source": [
    "# Concat synthetic data to dataset and perfom tokenize_pipeline (neutralizes inflexions and stop words made by translating)\n",
    "sintetized_data['origin'] = 'Synthetic'\n",
    "del sintetized_data['index']\n",
    "data = data.append(sintetized_data, ignore_index=True)\n",
    "data['title'] = data['title'].progress_apply(lambda x: tokenize_pipeline(x))"
   ]
  },
  {
   "cell_type": "code",
   "execution_count": 78,
   "metadata": {},
   "outputs": [
    {
     "data": {
      "image/png": "[encoded data removed]",
      "text/plain": [
       "<Figure size 1440x288 with 2 Axes>"
      ]
     },
     "metadata": {
      "needs_background": "light"
     },
     "output_type": "display_data"
    }
   ],
   "source": [
    "# Set grid of 2 columns\n",
    "fig, (a0, a1) = plt.subplots(ncols=2, gridspec_kw = {'width_ratios':[1, 3]})\n",
    "fig.set_figwidth(20)\n",
    "# Show count for positive for fake news (1) and negative for fake news (0)\n",
    "sns.countplot(x=\"label\", data=data, ax=a0)\n",
    "# Show count for every origin\n",
    "sns.countplot(x=\"origin\", data=data, ax=a1)\n",
    "plt.show()"
   ]
  },
  {
   "cell_type": "code",
   "execution_count": 79,
   "metadata": {},
   "outputs": [],
   "source": [
    "# Save pickle file with balanced dataframe\n",
    "with open(r'pickles\\balanced.pickle', 'wb') as f:\n",
    "    pickle.dump(data, f)"
   ]
  },
  {
   "cell_type": "code",
   "execution_count": 3,
   "metadata": {},
   "outputs": [],
   "source": [
    "# Load pickle file with balanced dataframe\n",
    "with open(r'pickles\\balanced.pickle', 'rb') as f:\n",
    "    data = pickle.load(f)"
   ]
  },
  {
   "cell_type": "markdown",
   "metadata": {},
   "source": [
    "### Representação vetorial (Tf-Idf)"
   ]
  },
  {
   "cell_type": "code",
   "execution_count": 4,
   "metadata": {},
   "outputs": [],
   "source": [
    "# Split data into features (X) and label (y)\n",
    "X_data = np.array(data['title'])\n",
    "y_data = np.array(data['label'])\n",
    "\n",
    "# Apply Tf-Idf representation\n",
    "vectorizer = TfidfVectorizer()\n",
    "X_data = vectorizer.fit_transform(X_data)"
   ]
  },
  {
   "cell_type": "markdown",
   "metadata": {},
   "source": [
    "### Redução de Dimensionalidade (LSA - TruncatedSVD)"
   ]
  },
  {
   "cell_type": "code",
   "execution_count": 5,
   "metadata": {},
   "outputs": [],
   "source": [
    "LSA = TruncatedSVD(n_components=30, n_iter=150, random_state=0)\n",
    "X_data = LSA.fit_transform(X_data)\n",
    "Sigma = LSA.singular_values_\n",
    "V_T = LSA.components_.T"
   ]
  },
  {
   "cell_type": "markdown",
   "metadata": {},
   "source": [
    "### Treinamento, teste e avaliação de alguns algoritmos"
   ]
  },
  {
   "cell_type": "code",
   "execution_count": 6,
   "metadata": {},
   "outputs": [],
   "source": [
    "X_train, X_test, y_train, y_test = train_test_split(X_data, y_data, test_size=0.2, random_state=0)"
   ]
  },
  {
   "cell_type": "code",
   "execution_count": 8,
   "metadata": {},
   "outputs": [
    {
     "name": "stdout",
     "output_type": "stream",
     "text": [
      "Naive Bayes score:  0.7014004272489912\n",
      "              precision    recall  f1-score   support\n",
      "\n",
      "           0       0.78      0.59      0.67      6493\n",
      "           1       0.65      0.82      0.73      6146\n",
      "\n",
      "    accuracy                           0.70     12639\n",
      "   macro avg       0.72      0.70      0.70     12639\n",
      "weighted avg       0.72      0.70      0.70     12639\n",
      "\n"
     ]
    },
    {
     "data": {
      "text/html": [
       "<div>\n",
       "<style scoped>\n",
       "    .dataframe tbody tr th:only-of-type {\n",
       "        vertical-align: middle;\n",
       "    }\n",
       "\n",
       "    .dataframe tbody tr th {\n",
       "        vertical-align: top;\n",
       "    }\n",
       "\n",
       "    .dataframe thead th {\n",
       "        text-align: right;\n",
       "    }\n",
       "</style>\n",
       "<table border=\"1\" class=\"dataframe\">\n",
       "  <thead>\n",
       "    <tr style=\"text-align: right;\">\n",
       "      <th>Predicted</th>\n",
       "      <th>0</th>\n",
       "      <th>1</th>\n",
       "    </tr>\n",
       "    <tr>\n",
       "      <th>Actual</th>\n",
       "      <th></th>\n",
       "      <th></th>\n",
       "    </tr>\n",
       "  </thead>\n",
       "  <tbody>\n",
       "    <tr>\n",
       "      <th>0</th>\n",
       "      <td>3808</td>\n",
       "      <td>2685</td>\n",
       "    </tr>\n",
       "    <tr>\n",
       "      <th>1</th>\n",
       "      <td>1089</td>\n",
       "      <td>5057</td>\n",
       "    </tr>\n",
       "  </tbody>\n",
       "</table>\n",
       "</div>"
      ],
      "text/plain": [
       "Predicted     0     1\n",
       "Actual               \n",
       "0          3808  2685\n",
       "1          1089  5057"
      ]
     },
     "execution_count": 8,
     "metadata": {},
     "output_type": "execute_result"
    }
   ],
   "source": [
    "NB_classifier = GaussianNB()\n",
    "y_pred = NB_classifier.fit(X_train, y_train).predict(X_test)\n",
    "print(\"Naive Bayes score: \", NB_classifier.score(X_test, y_test))\n",
    "\n",
    "print(classification_report(y_test, y_pred))\n",
    "\n",
    "act = pd.Series(y_test, name='Actual')\n",
    "prd = pd.Series(y_pred, name='Predicted')\n",
    "df_confusion = pd.crosstab(act, prd)\n",
    "df_confusion"
   ]
  },
  {
   "cell_type": "code",
   "execution_count": 9,
   "metadata": {},
   "outputs": [
    {
     "name": "stdout",
     "output_type": "stream",
     "text": [
      "Logistic Regression score:  0.7931798401772292\n",
      "              precision    recall  f1-score   support\n",
      "\n",
      "           0       0.79      0.82      0.80      6493\n",
      "           1       0.80      0.76      0.78      6146\n",
      "\n",
      "    accuracy                           0.79     12639\n",
      "   macro avg       0.79      0.79      0.79     12639\n",
      "weighted avg       0.79      0.79      0.79     12639\n",
      "\n"
     ]
    },
    {
     "data": {
      "text/html": [
       "<div>\n",
       "<style scoped>\n",
       "    .dataframe tbody tr th:only-of-type {\n",
       "        vertical-align: middle;\n",
       "    }\n",
       "\n",
       "    .dataframe tbody tr th {\n",
       "        vertical-align: top;\n",
       "    }\n",
       "\n",
       "    .dataframe thead th {\n",
       "        text-align: right;\n",
       "    }\n",
       "</style>\n",
       "<table border=\"1\" class=\"dataframe\">\n",
       "  <thead>\n",
       "    <tr style=\"text-align: right;\">\n",
       "      <th>Predicted</th>\n",
       "      <th>0</th>\n",
       "      <th>1</th>\n",
       "    </tr>\n",
       "    <tr>\n",
       "      <th>Actual</th>\n",
       "      <th></th>\n",
       "      <th></th>\n",
       "    </tr>\n",
       "  </thead>\n",
       "  <tbody>\n",
       "    <tr>\n",
       "      <th>0</th>\n",
       "      <td>5327</td>\n",
       "      <td>1166</td>\n",
       "    </tr>\n",
       "    <tr>\n",
       "      <th>1</th>\n",
       "      <td>1448</td>\n",
       "      <td>4698</td>\n",
       "    </tr>\n",
       "  </tbody>\n",
       "</table>\n",
       "</div>"
      ],
      "text/plain": [
       "Predicted     0     1\n",
       "Actual               \n",
       "0          5327  1166\n",
       "1          1448  4698"
      ]
     },
     "execution_count": 9,
     "metadata": {},
     "output_type": "execute_result"
    }
   ],
   "source": [
    "LR_classifier = LogisticRegression()\n",
    "y_pred = LR_classifier.fit(X_train, y_train).predict(X_test)\n",
    "print(\"Logistic Regression score: \", LR_classifier.score(X_test, y_test))\n",
    "\n",
    "print(classification_report(y_test, y_pred))\n",
    "\n",
    "act = pd.Series(y_test, name='Actual')\n",
    "prd = pd.Series(y_pred, name='Predicted')\n",
    "df_confusion = pd.crosstab(act, prd)\n",
    "df_confusion"
   ]
  },
  {
   "cell_type": "code",
   "execution_count": 10,
   "metadata": {},
   "outputs": [
    {
     "name": "stdout",
     "output_type": "stream",
     "text": [
      "Support Vector Machine score:  0.8411266714138776\n",
      "              precision    recall  f1-score   support\n",
      "\n",
      "           0       0.85      0.84      0.85      6493\n",
      "           1       0.84      0.84      0.84      6146\n",
      "\n",
      "    accuracy                           0.84     12639\n",
      "   macro avg       0.84      0.84      0.84     12639\n",
      "weighted avg       0.84      0.84      0.84     12639\n",
      "\n"
     ]
    },
    {
     "data": {
      "text/html": [
       "<div>\n",
       "<style scoped>\n",
       "    .dataframe tbody tr th:only-of-type {\n",
       "        vertical-align: middle;\n",
       "    }\n",
       "\n",
       "    .dataframe tbody tr th {\n",
       "        vertical-align: top;\n",
       "    }\n",
       "\n",
       "    .dataframe thead th {\n",
       "        text-align: right;\n",
       "    }\n",
       "</style>\n",
       "<table border=\"1\" class=\"dataframe\">\n",
       "  <thead>\n",
       "    <tr style=\"text-align: right;\">\n",
       "      <th>Predicted</th>\n",
       "      <th>0</th>\n",
       "      <th>1</th>\n",
       "    </tr>\n",
       "    <tr>\n",
       "      <th>Actual</th>\n",
       "      <th></th>\n",
       "      <th></th>\n",
       "    </tr>\n",
       "  </thead>\n",
       "  <tbody>\n",
       "    <tr>\n",
       "      <th>0</th>\n",
       "      <td>5477</td>\n",
       "      <td>1016</td>\n",
       "    </tr>\n",
       "    <tr>\n",
       "      <th>1</th>\n",
       "      <td>992</td>\n",
       "      <td>5154</td>\n",
       "    </tr>\n",
       "  </tbody>\n",
       "</table>\n",
       "</div>"
      ],
      "text/plain": [
       "Predicted     0     1\n",
       "Actual               \n",
       "0          5477  1016\n",
       "1           992  5154"
      ]
     },
     "execution_count": 10,
     "metadata": {},
     "output_type": "execute_result"
    }
   ],
   "source": [
    "SVM_classifier = SVC(kernel='rbf')\n",
    "y_pred = SVM_classifier.fit(X_train, y_train).predict(X_test)\n",
    "print(\"Support Vector Machine score: \", SVM_classifier.score(X_test, y_test))\n",
    "\n",
    "print(classification_report(y_test, y_pred))\n",
    "\n",
    "act = pd.Series(y_test, name='Actual')\n",
    "prd = pd.Series(y_pred, name='Predicted')\n",
    "df_confusion = pd.crosstab(act, prd)\n",
    "df_confusion"
   ]
  },
  {
   "cell_type": "code",
   "execution_count": 14,
   "metadata": {},
   "outputs": [
    {
     "name": "stdout",
     "output_type": "stream",
     "text": [
      "Neural Network score:  0.8533902998654956\n",
      "              precision    recall  f1-score   support\n",
      "\n",
      "           0       0.84      0.89      0.86      6493\n",
      "           1       0.87      0.82      0.84      6146\n",
      "\n",
      "    accuracy                           0.85     12639\n",
      "   macro avg       0.85      0.85      0.85     12639\n",
      "weighted avg       0.85      0.85      0.85     12639\n",
      "\n"
     ]
    },
    {
     "data": {
      "text/html": [
       "<div>\n",
       "<style scoped>\n",
       "    .dataframe tbody tr th:only-of-type {\n",
       "        vertical-align: middle;\n",
       "    }\n",
       "\n",
       "    .dataframe tbody tr th {\n",
       "        vertical-align: top;\n",
       "    }\n",
       "\n",
       "    .dataframe thead th {\n",
       "        text-align: right;\n",
       "    }\n",
       "</style>\n",
       "<table border=\"1\" class=\"dataframe\">\n",
       "  <thead>\n",
       "    <tr style=\"text-align: right;\">\n",
       "      <th>Predicted</th>\n",
       "      <th>0</th>\n",
       "      <th>1</th>\n",
       "    </tr>\n",
       "    <tr>\n",
       "      <th>Actual</th>\n",
       "      <th></th>\n",
       "      <th></th>\n",
       "    </tr>\n",
       "  </thead>\n",
       "  <tbody>\n",
       "    <tr>\n",
       "      <th>0</th>\n",
       "      <td>5750</td>\n",
       "      <td>743</td>\n",
       "    </tr>\n",
       "    <tr>\n",
       "      <th>1</th>\n",
       "      <td>1110</td>\n",
       "      <td>5036</td>\n",
       "    </tr>\n",
       "  </tbody>\n",
       "</table>\n",
       "</div>"
      ],
      "text/plain": [
       "Predicted     0     1\n",
       "Actual               \n",
       "0          5750   743\n",
       "1          1110  5036"
      ]
     },
     "execution_count": 14,
     "metadata": {},
     "output_type": "execute_result"
    }
   ],
   "source": [
    "NN_classifier = MLPClassifier(hidden_layer_sizes=(30,30,15), activation='relu', solver='adam', max_iter=500)\n",
    "y_pred = NN_classifier.fit(X_train, y_train).predict(X_test)\n",
    "print(\"Neural Network score: \", NN_classifier.score(X_test, y_test))\n",
    "\n",
    "print(classification_report(y_test, y_pred))\n",
    "\n",
    "act = pd.Series(y_test, name='Actual')\n",
    "prd = pd.Series(y_pred, name='Predicted')\n",
    "df_confusion = pd.crosstab(act, prd)\n",
    "df_confusion"
   ]
  }
 ],
 "metadata": {
  "kernelspec": {
   "display_name": "Python 3",
   "language": "python",
   "name": "python3"
  },
  "language_info": {
   "codemirror_mode": {
    "name": "ipython",
    "version": 3
   },
   "file_extension": ".py",
   "mimetype": "text/x-python",
   "name": "python",
   "nbconvert_exporter": "python",
   "pygments_lexer": "ipython3",
   "version": "3.8.6"
  }
 },
 "nbformat": 4,
 "nbformat_minor": 4
}
